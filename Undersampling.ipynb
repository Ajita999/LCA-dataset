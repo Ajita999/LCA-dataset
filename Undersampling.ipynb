{
 "cells": [
  {
   "cell_type": "code",
   "execution_count": 31,
   "metadata": {},
   "outputs": [],
   "source": [
    "import numpy as np\n",
    "import pandas as pd\n",
    "import matplotlib.pyplot as plt\n",
    "import seaborn as sns\n",
    "%matplotlib inline"
   ]
  },
  {
   "cell_type": "code",
   "execution_count": 32,
   "metadata": {},
   "outputs": [
    {
     "name": "stderr",
     "output_type": "stream",
     "text": [
      "/usr/local/lib/python3.7/site-packages/IPython/core/interactiveshell.py:3049: DtypeWarning: Columns (26) have mixed types. Specify dtype option on import or set low_memory=False.\n",
      "  interactivity=interactivity, compiler=compiler, result=result)\n"
     ]
    }
   ],
   "source": [
    "df = pd.read_csv('train.csv')"
   ]
  },
  {
   "cell_type": "code",
   "execution_count": 33,
   "metadata": {},
   "outputs": [],
   "source": [
    "df.dropna(inplace= True)"
   ]
  },
  {
   "cell_type": "code",
   "execution_count": 34,
   "metadata": {},
   "outputs": [],
   "source": [
    "visa = pd.get_dummies(df['VISA_CLASS'], drop_first=True)\n",
    "df = pd.concat([df,visa],axis=1)\n",
    "df.drop('VISA_CLASS', axis=1,inplace=True)"
   ]
  },
  {
   "cell_type": "code",
   "execution_count": 35,
   "metadata": {},
   "outputs": [],
   "source": [
    "from sklearn.preprocessing import LabelEncoder\n",
    "labelencoder = LabelEncoder()\n",
    "df['FULL_TIME_POSITION'] = labelencoder.fit_transform(df['FULL_TIME_POSITION'].astype(str))\n",
    "df['CASE_SUBMITTED_YEAR'] = labelencoder.fit_transform(df['CASE_SUBMITTED_YEAR'].astype(int))\n",
    "df['DECISION_YEAR'] = labelencoder.fit_transform(df['DECISION_YEAR'].astype(int))\n",
    "df['EMPLOYER_STATE'] = labelencoder.fit_transform(df['EMPLOYER_STATE'].astype(str))\n",
    "df['SOC_NAME'] = labelencoder.fit_transform(df['SOC_NAME'].astype(str))\n",
    "df['NAICS_CODE'] = labelencoder.fit_transform(df['NAICS_CODE'].astype(int))\n",
    "df['WILLFUL_VIOLATOR'] = labelencoder.fit_transform(df['WILLFUL_VIOLATOR'].astype(str))\n",
    "df['H-1B_DEPENDENT'] = labelencoder.fit_transform(df['H-1B_DEPENDENT'].astype(str))\n",
    "df['WORKSITE_STATE'] = labelencoder.fit_transform(df['WORKSITE_STATE'].astype(str))\n",
    "df['WORKSITE_POSTAL_CODE'] = labelencoder.fit_transform(df['WORKSITE_POSTAL_CODE'].astype(str))\n",
    "df['WAGE_UNIT_OF_PAY'] = labelencoder.fit_transform(df['WAGE_UNIT_OF_PAY'].astype(str))\n",
    "df['PW_SOURCE_YEAR'] = labelencoder.fit_transform(df['PW_SOURCE_YEAR'].astype(int))\n",
    "df['CASE_STATUS'] = labelencoder.fit_transform(df['CASE_STATUS'].astype(str))\n",
    "df['PW_SOURCE'] = labelencoder.fit_transform(df['PW_SOURCE'].astype(str))\n",
    "df['PW_SOURCE_OTHER'] = labelencoder.fit_transform(df['PW_SOURCE_OTHER'].astype(str))\n",
    "df['PW_UNIT_OF_PAY'] = labelencoder.fit_transform(df['PW_UNIT_OF_PAY'].astype(str))"
   ]
  },
  {
   "cell_type": "code",
   "execution_count": 36,
   "metadata": {},
   "outputs": [],
   "source": [
    "minority_class_len = len(df[df['CASE_STATUS'] == 2])\n"
   ]
  },
  {
   "cell_type": "code",
   "execution_count": 37,
   "metadata": {},
   "outputs": [
    {
     "name": "stdout",
     "output_type": "stream",
     "text": [
      "Int64Index([ 23966,  23971,  23972,  23983,  23989,  23995,  23998,  24000,\n",
      "             24007,  24010,\n",
      "            ...\n",
      "            418056, 418057, 418058, 418059, 418060, 418061, 418063, 418064,\n",
      "            418065, 418066],\n",
      "           dtype='int64', length=361759)\n"
     ]
    }
   ],
   "source": [
    "majority_class0_indices = df[df['CASE_STATUS'] == 0].index\n",
    "majority_class1_indices = df[df['CASE_STATUS'] == 1].index\n",
    "majority_class3_indices = df[df['CASE_STATUS'] == 3].index\n",
    "print(majority_class0_indices)"
   ]
  },
  {
   "cell_type": "code",
   "execution_count": 38,
   "metadata": {},
   "outputs": [],
   "source": [
    "random_majority_class0_indices = np.random.choice(majority_class0_indices,\n",
    "                                                 minority_class_len,\n",
    "                                                replace=False)\n",
    "random_majority_class1_indices = np.random.choice(majority_class1_indices,\n",
    "                                                 minority_class_len,\n",
    "                                                 replace=False)\n",
    "random_majority_class3_indices = np.random.choice(majority_class3_indices,\n",
    "                                                 minority_class_len,\n",
    "                                                 replace=False)"
   ]
  },
  {
   "cell_type": "code",
   "execution_count": 39,
   "metadata": {},
   "outputs": [],
   "source": [
    "minority_class_indices = df[df['CASE_STATUS'] == 2].index"
   ]
  },
  {
   "cell_type": "code",
   "execution_count": 40,
   "metadata": {},
   "outputs": [],
   "source": [
    "undersample_indices = np.concatenate([minority_class_indices, random_majority_class0_indices, random_majority_class1_indices,random_majority_class3_indices])"
   ]
  },
  {
   "cell_type": "code",
   "execution_count": 41,
   "metadata": {},
   "outputs": [],
   "source": [
    "undersample = df.loc[undersample_indices]"
   ]
  },
  {
   "cell_type": "code",
   "execution_count": 42,
   "metadata": {},
   "outputs": [],
   "source": [
    "from sklearn.model_selection import train_test_split\n",
    "X = undersample.drop(['CASE_NO', 'CASE_STATUS', 'EMPLOYER_NAME', 'EMPLOYER_COUNTRY'],axis=1)\n",
    "Y = undersample['CASE_STATUS']"
   ]
  },
  {
   "cell_type": "code",
   "execution_count": 43,
   "metadata": {},
   "outputs": [],
   "source": [
    "X_train, X_test, y_train, y_test = train_test_split(X, Y, test_size=0.30)"
   ]
  },
  {
   "cell_type": "code",
   "execution_count": null,
   "metadata": {},
   "outputs": [
    {
     "name": "stderr",
     "output_type": "stream",
     "text": [
      "/usr/local/lib64/python3.7/site-packages/sklearn/model_selection/_split.py:2053: FutureWarning: You should specify a value for 'cv' instead of relying on the default value. The default value will change from 3 to 5 in version 0.22.\n",
      "  warnings.warn(CV_WARNING, FutureWarning)\n"
     ]
    }
   ],
   "source": [
    "from sklearn.feature_selection import RFECV\n",
    "from xgboost import XGBClassifier\n",
    "clf = XGBClassifier()\n",
    "selector = RFECV(estimator=clf)\n",
    "selector.fit(X_train,y_train)"
   ]
  },
  {
   "cell_type": "code",
   "execution_count": 29,
   "metadata": {},
   "outputs": [],
   "source": [
    "predictions = selector.predict(X_test.values)"
   ]
  },
  {
   "cell_type": "code",
   "execution_count": 30,
   "metadata": {},
   "outputs": [
    {
     "name": "stdout",
     "output_type": "stream",
     "text": [
      "              precision    recall  f1-score   support\n",
      "\n",
      "           0       0.97      0.61      0.75    108555\n",
      "           1       0.30      0.80      0.44      9975\n",
      "           2       0.03      0.97      0.06        38\n",
      "           3       0.09      0.63      0.16      3782\n",
      "\n",
      "   micro avg       0.63      0.63      0.63    122350\n",
      "   macro avg       0.35      0.75      0.35    122350\n",
      "weighted avg       0.89      0.63      0.71    122350\n",
      "\n"
     ]
    }
   ],
   "source": [
    "from sklearn.metrics import classification_report,confusion_matrix\n",
    "print(classification_report(y_test,predictions))"
   ]
  },
  {
   "cell_type": "code",
   "execution_count": 27,
   "metadata": {},
   "outputs": [],
   "source": [
    "from sklearn.model_selection import train_test_split\n",
    "X = df.drop(['CASE_NO', 'CASE_STATUS', 'EMPLOYER_NAME', 'EMPLOYER_COUNTRY'],axis=1)\n",
    "Y = df['CASE_STATUS']"
   ]
  },
  {
   "cell_type": "code",
   "execution_count": null,
   "metadata": {},
   "outputs": [],
   "source": []
  }
 ],
 "metadata": {
  "kernelspec": {
   "display_name": "Python 3",
   "language": "python",
   "name": "python3"
  },
  "language_info": {
   "codemirror_mode": {
    "name": "ipython",
    "version": 3
   },
   "file_extension": ".py",
   "mimetype": "text/x-python",
   "name": "python",
   "nbconvert_exporter": "python",
   "pygments_lexer": "ipython3",
   "version": "3.7.3"
  }
 },
 "nbformat": 4,
 "nbformat_minor": 2
}
