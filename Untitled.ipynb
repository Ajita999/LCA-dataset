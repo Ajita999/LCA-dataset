{
 "cells": [
  {
   "cell_type": "code",
   "execution_count": 1,
   "metadata": {},
   "outputs": [
    {
     "name": "stderr",
     "output_type": "stream",
     "text": [
      "/usr/lib64/python3.7/importlib/_bootstrap.py:219: RuntimeWarning: numpy.ufunc size changed, may indicate binary incompatibility. Expected 216, got 192\n",
      "  return f(*args, **kwds)\n",
      "/usr/lib64/python3.7/importlib/_bootstrap.py:219: RuntimeWarning: numpy.ufunc size changed, may indicate binary incompatibility. Expected 216, got 192\n",
      "  return f(*args, **kwds)\n",
      "/usr/lib64/python3.7/importlib/_bootstrap.py:219: RuntimeWarning: numpy.ufunc size changed, may indicate binary incompatibility. Expected 192 from C header, got 216 from PyObject\n",
      "  return f(*args, **kwds)\n"
     ]
    }
   ],
   "source": [
    "import numpy as np\n",
    "import pandas as pd\n",
    "import matplotlib.pyplot as plt\n",
    "import seaborn as sns\n",
    "%matplotlib inline"
   ]
  },
  {
   "cell_type": "code",
   "execution_count": 2,
   "metadata": {},
   "outputs": [
    {
     "name": "stderr",
     "output_type": "stream",
     "text": [
      "/usr/local/lib/python3.7/site-packages/IPython/core/interactiveshell.py:3049: DtypeWarning: Columns (26) have mixed types. Specify dtype option on import or set low_memory=False.\n",
      "  interactivity=interactivity, compiler=compiler, result=result)\n"
     ]
    }
   ],
   "source": [
    "df = pd.read_csv('train.csv')"
   ]
  },
  {
   "cell_type": "code",
   "execution_count": 3,
   "metadata": {},
   "outputs": [
    {
     "data": {
      "text/plain": [
       "array(['CERTIFIEDWITHDRAWN', 'WITHDRAWN', 'CERTIFIED', 'DENIED'],\n",
       "      dtype=object)"
      ]
     },
     "execution_count": 3,
     "metadata": {},
     "output_type": "execute_result"
    }
   ],
   "source": [
    "df['CASE_STATUS'].unique()"
   ]
  },
  {
   "cell_type": "code",
   "execution_count": 4,
   "metadata": {},
   "outputs": [],
   "source": [
    "df.dropna(inplace= True)"
   ]
  },
  {
   "cell_type": "code",
   "execution_count": 5,
   "metadata": {},
   "outputs": [],
   "source": [
    "visa = pd.get_dummies(df['VISA_CLASS'], drop_first=True)\n",
    "df = pd.concat([df,visa],axis=1)\n",
    "df.drop('VISA_CLASS', axis=1,inplace=True)"
   ]
  },
  {
   "cell_type": "code",
   "execution_count": 6,
   "metadata": {},
   "outputs": [],
   "source": [
    "from sklearn.preprocessing import LabelEncoder\n",
    "labelencoder = LabelEncoder()\n",
    "df['FULL_TIME_POSITION'] = labelencoder.fit_transform(df['FULL_TIME_POSITION'].astype(str))\n",
    "df['CASE_SUBMITTED_YEAR'] = labelencoder.fit_transform(df['CASE_SUBMITTED_YEAR'].astype(int))\n",
    "df['DECISION_YEAR'] = labelencoder.fit_transform(df['DECISION_YEAR'].astype(int))\n",
    "df['EMPLOYER_STATE'] = labelencoder.fit_transform(df['EMPLOYER_STATE'].astype(str))\n",
    "df['SOC_NAME'] = labelencoder.fit_transform(df['SOC_NAME'].astype(str))\n",
    "df['NAICS_CODE'] = labelencoder.fit_transform(df['NAICS_CODE'].astype(int))\n",
    "df['WILLFUL_VIOLATOR'] = labelencoder.fit_transform(df['WILLFUL_VIOLATOR'].astype(str))\n",
    "df['H-1B_DEPENDENT'] = labelencoder.fit_transform(df['H-1B_DEPENDENT'].astype(str))\n",
    "df['WORKSITE_STATE'] = labelencoder.fit_transform(df['WORKSITE_STATE'].astype(str))\n",
    "df['WORKSITE_POSTAL_CODE'] = labelencoder.fit_transform(df['WORKSITE_POSTAL_CODE'].astype(str))\n",
    "df['WAGE_UNIT_OF_PAY'] = labelencoder.fit_transform(df['WAGE_UNIT_OF_PAY'].astype(str))\n",
    "df['PW_SOURCE_YEAR'] = labelencoder.fit_transform(df['PW_SOURCE_YEAR'].astype(int))\n",
    "df['CASE_STATUS'] = labelencoder.fit_transform(df['CASE_STATUS'].astype(str))\n",
    "df['PW_SOURCE'] = labelencoder.fit_transform(df['PW_SOURCE'].astype(str))\n",
    "df['PW_SOURCE_OTHER'] = labelencoder.fit_transform(df['PW_SOURCE_OTHER'].astype(str))\n",
    "df['PW_UNIT_OF_PAY'] = labelencoder.fit_transform(df['PW_UNIT_OF_PAY'].astype(str))"
   ]
  },
  {
   "cell_type": "code",
   "execution_count": null,
   "metadata": {},
   "outputs": [],
   "source": [
    "df[df['CASE_STATUS'] == 2]"
   ]
  },
  {
   "cell_type": "code",
   "execution_count": 7,
   "metadata": {},
   "outputs": [],
   "source": [
    "from sklearn.model_selection import train_test_split"
   ]
  },
  {
   "cell_type": "code",
   "execution_count": 8,
   "metadata": {},
   "outputs": [],
   "source": [
    "X = df.drop(['CASE_NO', 'CASE_STATUS', 'EMPLOYER_NAME', 'EMPLOYER_COUNTRY'],axis=1)\n",
    "Y = df['CASE_STATUS']"
   ]
  },
  {
   "cell_type": "code",
   "execution_count": 16,
   "metadata": {},
   "outputs": [],
   "source": [
    "X_train, X_test, y_train, y_test = train_test_split(X, Y, test_size=0.30)"
   ]
  },
  {
   "cell_type": "code",
   "execution_count": 17,
   "metadata": {},
   "outputs": [],
   "source": [
    "from sklearn.tree import DecisionTreeClassifier"
   ]
  },
  {
   "cell_type": "code",
   "execution_count": 23,
   "metadata": {},
   "outputs": [
    {
     "name": "stderr",
     "output_type": "stream",
     "text": [
      "/usr/lib64/python3.7/importlib/_bootstrap.py:219: RuntimeWarning: numpy.ufunc size changed, may indicate binary incompatibility. Expected 216, got 192\n",
      "  return f(*args, **kwds)\n"
     ]
    },
    {
     "data": {
      "text/plain": [
       "RandomForestClassifier(bootstrap=True, class_weight=None, criterion='gini',\n",
       "            max_depth=None, max_features='auto', max_leaf_nodes=None,\n",
       "            min_impurity_decrease=0.0, min_impurity_split=None,\n",
       "            min_samples_leaf=1, min_samples_split=2,\n",
       "            min_weight_fraction_leaf=0.0, n_estimators=500, n_jobs=None,\n",
       "            oob_score=False, random_state=None, verbose=0,\n",
       "            warm_start=False)"
      ]
     },
     "execution_count": 23,
     "metadata": {},
     "output_type": "execute_result"
    }
   ],
   "source": [
    "from sklearn.ensemble import RandomForestClassifier\n",
    "rfc = RandomForestClassifier(n_estimators=500)\n",
    "rfc.fit(X_train, y_train)"
   ]
  },
  {
   "cell_type": "code",
   "execution_count": 24,
   "metadata": {},
   "outputs": [],
   "source": [
    "predictions = model.predict(X_test)"
   ]
  },
  {
   "cell_type": "code",
   "execution_count": 25,
   "metadata": {},
   "outputs": [],
   "source": [
    "from sklearn.metrics import classification_report,confusion_matrix"
   ]
  },
  {
   "cell_type": "code",
   "execution_count": 26,
   "metadata": {},
   "outputs": [
    {
     "name": "stdout",
     "output_type": "stream",
     "text": [
      "              precision    recall  f1-score   support\n",
      "\n",
      "           0       0.99      0.99      0.99    108529\n",
      "           1       0.95      0.94      0.95      9919\n",
      "           2       0.42      0.32      0.36        44\n",
      "           3       0.76      0.79      0.78      3858\n",
      "\n",
      "   micro avg       0.98      0.98      0.98    122350\n",
      "   macro avg       0.78      0.76      0.77    122350\n",
      "weighted avg       0.98      0.98      0.98    122350\n",
      "\n"
     ]
    }
   ],
   "source": [
    "print(classification_report(y_test,predictions))"
   ]
  },
  {
   "cell_type": "code",
   "execution_count": 27,
   "metadata": {},
   "outputs": [
    {
     "name": "stdout",
     "output_type": "stream",
     "text": [
      "[[107649    217     18    645]\n",
      " [   268   9354      0    297]\n",
      " [    23      0     14      7]\n",
      " [   575    228      1   3054]]\n"
     ]
    }
   ],
   "source": [
    "print(confusion_matrix(y_test,predictions))"
   ]
  },
  {
   "cell_type": "code",
   "execution_count": null,
   "metadata": {},
   "outputs": [],
   "source": []
  }
 ],
 "metadata": {
  "kernelspec": {
   "display_name": "Python 3",
   "language": "python",
   "name": "python3"
  },
  "language_info": {
   "codemirror_mode": {
    "name": "ipython",
    "version": 3
   },
   "file_extension": ".py",
   "mimetype": "text/x-python",
   "name": "python",
   "nbconvert_exporter": "python",
   "pygments_lexer": "ipython3",
   "version": "3.7.3"
  }
 },
 "nbformat": 4,
 "nbformat_minor": 2
}
