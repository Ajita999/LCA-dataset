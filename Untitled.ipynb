{
 "cells": [
  {
   "cell_type": "code",
   "execution_count": 1,
   "metadata": {},
   "outputs": [],
   "source": [
    "import numpy as np\n",
    "import pandas as pd\n",
    "import matplotlib.pyplot as plt\n",
    "import seaborn as sns\n",
    "%matplotlib inline"
   ]
  },
  {
   "cell_type": "code",
   "execution_count": 2,
   "metadata": {},
   "outputs": [
    {
     "name": "stderr",
     "output_type": "stream",
     "text": [
      "/usr/local/lib/python3.7/site-packages/IPython/core/interactiveshell.py:3049: DtypeWarning: Columns (26) have mixed types. Specify dtype option on import or set low_memory=False.\n",
      "  interactivity=interactivity, compiler=compiler, result=result)\n"
     ]
    }
   ],
   "source": [
    "df = pd.read_csv('train.csv')"
   ]
  },
  {
   "cell_type": "code",
   "execution_count": 3,
   "metadata": {},
   "outputs": [
    {
     "data": {
      "text/plain": [
       "array(['CERTIFIEDWITHDRAWN', 'WITHDRAWN', 'CERTIFIED', 'DENIED'],\n",
       "      dtype=object)"
      ]
     },
     "execution_count": 3,
     "metadata": {},
     "output_type": "execute_result"
    }
   ],
   "source": [
    "df['CASE_STATUS'].unique()"
   ]
  },
  {
   "cell_type": "code",
   "execution_count": 4,
   "metadata": {},
   "outputs": [],
   "source": [
    "df.dropna(inplace= True)"
   ]
  },
  {
   "cell_type": "code",
   "execution_count": 5,
   "metadata": {},
   "outputs": [],
   "source": [
    "visa = pd.get_dummies(df['VISA_CLASS'], drop_first=True)\n",
    "df = pd.concat([df,visa],axis=1)\n",
    "df.drop('VISA_CLASS', axis=1,inplace=True)"
   ]
  },
  {
   "cell_type": "code",
   "execution_count": 6,
   "metadata": {},
   "outputs": [],
   "source": [
    "from sklearn.preprocessing import LabelEncoder\n",
    "labelencoder = LabelEncoder()\n",
    "df['FULL_TIME_POSITION'] = labelencoder.fit_transform(df['FULL_TIME_POSITION'].astype(str))\n",
    "df['CASE_SUBMITTED_YEAR'] = labelencoder.fit_transform(df['CASE_SUBMITTED_YEAR'].astype(int))\n",
    "df['DECISION_YEAR'] = labelencoder.fit_transform(df['DECISION_YEAR'].astype(int))\n",
    "df['EMPLOYER_STATE'] = labelencoder.fit_transform(df['EMPLOYER_STATE'].astype(str))\n",
    "df['SOC_NAME'] = labelencoder.fit_transform(df['SOC_NAME'].astype(str))\n",
    "df['NAICS_CODE'] = labelencoder.fit_transform(df['NAICS_CODE'].astype(int))\n",
    "df['WILLFUL_VIOLATOR'] = labelencoder.fit_transform(df['WILLFUL_VIOLATOR'].astype(str))\n",
    "df['H-1B_DEPENDENT'] = labelencoder.fit_transform(df['H-1B_DEPENDENT'].astype(str))\n",
    "df['WORKSITE_STATE'] = labelencoder.fit_transform(df['WORKSITE_STATE'].astype(str))\n",
    "df['WORKSITE_POSTAL_CODE'] = labelencoder.fit_transform(df['WORKSITE_POSTAL_CODE'].astype(str))\n",
    "df['WAGE_UNIT_OF_PAY'] = labelencoder.fit_transform(df['WAGE_UNIT_OF_PAY'].astype(str))\n",
    "df['PW_SOURCE_YEAR'] = labelencoder.fit_transform(df['PW_SOURCE_YEAR'].astype(int))\n",
    "df['CASE_STATUS'] = labelencoder.fit_transform(df['CASE_STATUS'].astype(str))\n",
    "df['PW_SOURCE'] = labelencoder.fit_transform(df['PW_SOURCE'].astype(str))\n",
    "df['PW_SOURCE_OTHER'] = labelencoder.fit_transform(df['PW_SOURCE_OTHER'].astype(str))\n",
    "df['PW_UNIT_OF_PAY'] = labelencoder.fit_transform(df['PW_UNIT_OF_PAY'].astype(str))"
   ]
  },
  {
   "cell_type": "code",
   "execution_count": null,
   "metadata": {},
   "outputs": [],
   "source": [
    "df[df['CASE_STATUS'] == 2]"
   ]
  },
  {
   "cell_type": "code",
   "execution_count": 7,
   "metadata": {},
   "outputs": [],
   "source": [
    "from sklearn.model_selection import train_test_split"
   ]
  },
  {
   "cell_type": "code",
   "execution_count": 8,
   "metadata": {},
   "outputs": [],
   "source": [
    "X = df.drop(['CASE_NO', 'CASE_STATUS', 'EMPLOYER_NAME', 'EMPLOYER_COUNTRY'],axis=1)\n",
    "Y = df['CASE_STATUS']"
   ]
  },
  {
   "cell_type": "code",
   "execution_count": 9,
   "metadata": {},
   "outputs": [],
   "source": [
    "X_train, X_test, y_train, y_test = train_test_split(X, Y, test_size=0.30)"
   ]
  },
  {
   "cell_type": "code",
   "execution_count": 10,
   "metadata": {},
   "outputs": [],
   "source": [
    "from imblearn.over_sampling import SMOTE"
   ]
  },
  {
   "cell_type": "code",
   "execution_count": 11,
   "metadata": {},
   "outputs": [
    {
     "name": "stdout",
     "output_type": "stream",
     "text": [
      "Before Upsampling\n",
      "253212\n",
      "23310\n",
      "104\n",
      "8856\n",
      "After Upsampling\n",
      "253212\n",
      "253212\n",
      "253212\n",
      "253212\n"
     ]
    }
   ],
   "source": [
    "print(\"Before Upsampling\")\n",
    "print(sum(y_train == 0))\n",
    "print(sum(y_train == 1))\n",
    "print(sum(y_train == 2))\n",
    "print(sum(y_train == 3))\n",
    "\n",
    "sm = SMOTE(random_state=2)\n",
    "X_train_res, y_train_res = sm.fit_sample(X_train, y_train)\n",
    "\n",
    "print(\"After Upsampling\")\n",
    "print(sum(y_train_res == 0))\n",
    "print(sum(y_train_res == 1))\n",
    "print(sum(y_train_res == 2))\n",
    "print(sum(y_train_res == 3))"
   ]
  },
  {
   "cell_type": "code",
   "execution_count": null,
   "metadata": {},
   "outputs": [],
   "source": []
  },
  {
   "cell_type": "code",
   "execution_count": 12,
   "metadata": {},
   "outputs": [],
   "source": [
    "from sklearn.feature_selection import RFECV"
   ]
  },
  {
   "cell_type": "code",
   "execution_count": 13,
   "metadata": {},
   "outputs": [],
   "source": [
    "from xgboost import XGBClassifier\n",
    "clf = XGBClassifier()\n",
    "selector = RFECV(estimator=clf)"
   ]
  },
  {
   "cell_type": "code",
   "execution_count": null,
   "metadata": {},
   "outputs": [
    {
     "name": "stderr",
     "output_type": "stream",
     "text": [
      "/usr/local/lib64/python3.7/site-packages/sklearn/model_selection/_split.py:2053: FutureWarning: You should specify a value for 'cv' instead of relying on the default value. The default value will change from 3 to 5 in version 0.22.\n",
      "  warnings.warn(CV_WARNING, FutureWarning)\n"
     ]
    }
   ],
   "source": [
    "selector.fit(X_train_res,y_train_res)"
   ]
  },
  {
   "cell_type": "code",
   "execution_count": 56,
   "metadata": {},
   "outputs": [],
   "source": [
    "predictions = clf.predict(X_test.values)"
   ]
  },
  {
   "cell_type": "code",
   "execution_count": 57,
   "metadata": {},
   "outputs": [],
   "source": [
    "from sklearn.metrics import classification_report,confusion_matrix"
   ]
  },
  {
   "cell_type": "code",
   "execution_count": 58,
   "metadata": {},
   "outputs": [
    {
     "name": "stdout",
     "output_type": "stream",
     "text": [
      "              precision    recall  f1-score   support\n",
      "\n",
      "           0       0.98      0.95      0.97    108708\n",
      "           1       0.94      0.88      0.91      9818\n",
      "           2       0.04      0.90      0.08        39\n",
      "           3       0.36      0.63      0.46      3785\n",
      "\n",
      "   micro avg       0.94      0.94      0.94    122350\n",
      "   macro avg       0.58      0.84      0.60    122350\n",
      "weighted avg       0.96      0.94      0.95    122350\n",
      "\n"
     ]
    }
   ],
   "source": [
    "print(classification_report(y_test,predictions))"
   ]
  },
  {
   "cell_type": "code",
   "execution_count": 59,
   "metadata": {},
   "outputs": [
    {
     "name": "stdout",
     "output_type": "stream",
     "text": [
      "[[103777    116    824   3991]\n",
      " [   992   8668      7    151]\n",
      " [     3      1     35      0]\n",
      " [   937    460     11   2377]]\n"
     ]
    }
   ],
   "source": [
    "print(confusion_matrix(y_test,predictions))"
   ]
  },
  {
   "cell_type": "code",
   "execution_count": null,
   "metadata": {},
   "outputs": [],
   "source": []
  }
 ],
 "metadata": {
  "kernelspec": {
   "display_name": "Python 3",
   "language": "python",
   "name": "python3"
  },
  "language_info": {
   "codemirror_mode": {
    "name": "ipython",
    "version": 3
   },
   "file_extension": ".py",
   "mimetype": "text/x-python",
   "name": "python",
   "nbconvert_exporter": "python",
   "pygments_lexer": "ipython3",
   "version": "3.7.3"
  }
 },
 "nbformat": 4,
 "nbformat_minor": 2
}
